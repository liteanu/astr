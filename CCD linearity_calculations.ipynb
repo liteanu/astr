{
 "cells": [
  {
   "cell_type": "code",
   "execution_count": 1,
   "metadata": {
    "collapsed": true
   },
   "outputs": [],
   "source": [
    "from astropy.io import fits\n",
    "import numpy as np\n",
    "import matplotlib.pyplot as plt\n",
    "# glob serves some of the same functions as ls in the terminal\n",
    "import glob"
   ]
  },
  {
   "cell_type": "code",
   "execution_count": 2,
   "metadata": {},
   "outputs": [
    {
     "name": "stdout",
     "output_type": "stream",
     "text": [
      "54.0\n"
     ]
    }
   ],
   "source": [
    "hdu = fits.open('./Downloads/480_2018_.Flat.54S0X1.Sky.58.fits')\n",
    "header = hdu[0].header\n",
    "print(header['exptime'])"
   ]
  },
  {
   "cell_type": "code",
   "execution_count": 10,
   "metadata": {},
   "outputs": [
    {
     "name": "stdout",
     "output_type": "stream",
     "text": [
      "['./Downloads/drive-download-20180519T211043Z-001/480_2018_.Flat.0S0X1.R.35.fits', './Downloads/drive-download-20180519T211043Z-001/480_2018_.Flat.0S0X1.R.36.fits', './Downloads/drive-download-20180519T211043Z-001/480_2018_.Flat.0S0X1.R.37.fits', './Downloads/drive-download-20180519T211043Z-001/480_2018_.Flat.0S0X1.R.38.fits', './Downloads/drive-download-20180519T211043Z-001/480_2018_.Flat.0S0X1.R.39.fits', './Downloads/drive-download-20180519T211043Z-001/480_2018_.Flat.0S0X1.R.40.fits', './Downloads/drive-download-20180519T211043Z-001/480_2018_.Flat.0S0X1.R.42.fits', './Downloads/drive-download-20180519T211043Z-001/480_2018_.Flat.0S0X1.Sky.43.fits', './Downloads/drive-download-20180519T211043Z-001/480_2018_.Flat.0S0X1.Sky.44.fits', './Downloads/drive-download-20180519T211043Z-001/480_2018_.Flat.0S0X1.Sky.67.fits', './Downloads/drive-download-20180519T211043Z-001/480_2018_.Flat.0S0X1.Sky.68.fits', './Downloads/drive-download-20180519T211043Z-001/480_2018_.Flat.10S0X1.Sky.45.fits', './Downloads/drive-download-20180519T211043Z-001/480_2018_.Flat.18S0X1.Sky.60.fits', './Downloads/drive-download-20180519T211043Z-001/480_2018_.Flat.18S0X1.Sky.61.fits', './Downloads/drive-download-20180519T211043Z-001/480_2018_.Flat.1S0X1.Sky.66.fits', './Downloads/drive-download-20180519T211043Z-001/480_2018_.Flat.2S0X1.Sky.64.fits', './Downloads/drive-download-20180519T211043Z-001/480_2018_.Flat.2S0X1.Sky.65.fits', './Downloads/drive-download-20180519T211043Z-001/480_2018_.Flat.30S0X1.Sky.46.fits', './Downloads/drive-download-20180519T211043Z-001/480_2018_.Flat.35S0X1.Sky.48.fits', './Downloads/drive-download-20180519T211043Z-001/480_2018_.Flat.36S0X1.Sky.59.fits', './Downloads/drive-download-20180519T211043Z-001/480_2018_.Flat.3S0X1.R.41.fits', './Downloads/drive-download-20180519T211043Z-001/480_2018_.Flat.45S0X1.Sky.47.fits', './Downloads/drive-download-20180519T211043Z-001/480_2018_.Flat.4S0X1.Sky.63.fits', './Downloads/drive-download-20180519T211043Z-001/480_2018_.Flat.54S0X1.Sky.58.fits', './Downloads/drive-download-20180519T211043Z-001/480_2018_.Flat.72S0X1.Sky.57.fits', './Downloads/drive-download-20180519T211043Z-001/480_2018_.Flat.90S0X1.Sky.49.fits', './Downloads/drive-download-20180519T211043Z-001/480_2018_.Flat.9S0X1.Sky.62.fits']\n"
     ]
    }
   ],
   "source": [
    "flat_list = glob.glob('./Downloads/drive-download-20180519T211043Z-001/480_2018_.Flat*.fits')\n",
    "print(flat_list)"
   ]
  },
  {
   "cell_type": "code",
   "execution_count": 11,
   "metadata": {},
   "outputs": [
    {
     "name": "stdout",
     "output_type": "stream",
     "text": [
      "Exposure time 0.12 sec\n",
      "Mean counts: 1021.05\n",
      "\n",
      "Exposure time 0.12 sec\n",
      "Mean counts: 20897.84\n",
      "\n",
      "Exposure time 0.12 sec\n",
      "Mean counts: 44444.15\n",
      "\n",
      "Exposure time 0.12 sec\n",
      "Mean counts: 4157.09\n",
      "\n",
      "Exposure time 0.12 sec\n",
      "Mean counts: 2237.16\n",
      "\n",
      "Exposure time 0.24 sec\n",
      "Mean counts: 6042.01\n",
      "\n",
      "Exposure time 0.5 sec\n",
      "Mean counts: 11435.29\n",
      "\n",
      "Exposure time 0.5 sec\n",
      "Mean counts: 1238.54\n",
      "\n",
      "Exposure time 0.25 sec\n",
      "Mean counts: 1130.31\n",
      "\n",
      "Exposure time 0.563 sec\n",
      "Mean counts: 1176.45\n",
      "\n",
      "Exposure time 0.281 sec\n",
      "Mean counts: 1099.78\n",
      "\n",
      "Exposure time 10.0 sec\n",
      "Mean counts: 5256.91\n",
      "\n",
      "Exposure time 18.0 sec\n",
      "Mean counts: 6735.97\n",
      "\n",
      "Exposure time 18.0 sec\n",
      "Mean counts: 6597.05\n",
      "\n",
      "Exposure time 1.125 sec\n",
      "Mean counts: 1345.15\n",
      "\n",
      "Exposure time 2.0 sec\n",
      "Mean counts: 1576.96\n",
      "\n",
      "Exposure time 2.0 sec\n",
      "Mean counts: 1561.18\n",
      "\n",
      "Exposure time 30.0 sec\n",
      "Mean counts: 13443.55\n",
      "\n",
      "Exposure time 35.0 sec\n",
      "Mean counts: 15393.56\n",
      "\n",
      "Exposure time 36.0 sec\n",
      "Mean counts: 12045.93\n",
      "\n",
      "Exposure time 3.456 sec\n",
      "Mean counts: 54087.88\n",
      "\n",
      "Exposure time 45.0 sec\n",
      "Mean counts: 19988.60\n",
      "\n",
      "Exposure time 4.0 sec\n",
      "Mean counts: 2180.11\n",
      "\n",
      "Exposure time 54.0 sec\n",
      "Mean counts: 18446.11\n",
      "\n",
      "Exposure time 72.0 sec\n",
      "Mean counts: 24023.60\n",
      "\n",
      "Exposure time 90.0 sec\n",
      "Mean counts: 39524.25\n",
      "\n",
      "Exposure time 9.0 sec\n",
      "Mean counts: 3591.21\n",
      "\n"
     ]
    }
   ],
   "source": [
    "exp_times = []\n",
    "means = []\n",
    "\n",
    "for filename in flat_list:\n",
    "    # Open the FITS file\n",
    "    hdu = fits.open(filename)\n",
    "    \n",
    "    exptime = hdu[0].header['exptime']\n",
    "    print('Exposure time {} sec'.format(exptime))\n",
    "    \n",
    "    # This will append the exposure time for each image to the array\n",
    "    exp_times.append(exptime)\n",
    "    \n",
    "    # Same for mean counts\n",
    "    mean_counts = np.mean(hdu[0].data)\n",
    "    print('Mean counts: {:.2f}\\n'.format(mean_counts))\n",
    "    means.append(mean_counts)\n",
    "\n",
    "# Convert to Numpy arrays so they can be sorted\n",
    "exp_times = np.array(exp_times)\n",
    "means = np.array(means)\n",
    "\n",
    "# Sort by exposure time so the plot looks correct\n",
    "time_sort = np.argsort(exp_times)\n",
    "exp_times = exp_times[time_sort]\n",
    "means = means[time_sort]\n"
   ]
  },
  {
   "cell_type": "code",
   "execution_count": 9,
   "metadata": {},
   "outputs": [
    {
     "data": {
      "image/png": "[encoded data removed]",
      "text/plain": [
       "<matplotlib.figure.Figure at 0x10ac36908>"
      ]
     },
     "metadata": {},
     "output_type": "display_data"
    }
   ],
   "source": [
    "plt.figure(figsize=(10, 8))\n",
    "plt.rcParams['font.size'] = 16\n",
    "\n",
    "plt.plot(exp_times, means, '-ko')\n",
    "plt.xlabel('Exposure Time (sec)')\n",
    "plt.ylabel('Mean counts')\n",
    "plt.show()"
   ]
  },
  {
   "cell_type": "code",
   "execution_count": null,
   "metadata": {
    "collapsed": true
   },
   "outputs": [],
   "source": []
  }
 ],
 "metadata": {
  "kernelspec": {
   "display_name": "Python 3",
   "language": "python",
   "name": "python3"
  },
  "language_info": {
   "codemirror_mode": {
    "name": "ipython",
    "version": 3
   },
   "file_extension": ".py",
   "mimetype": "text/x-python",
   "name": "python",
   "nbconvert_exporter": "python",
   "pygments_lexer": "ipython3",
   "version": "3.6.3"
  }
 },
 "nbformat": 4,
 "nbformat_minor": 2
}
