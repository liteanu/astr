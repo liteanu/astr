{
 "cells": [
  {
   "cell_type": "code",
   "execution_count": 0,
   "metadata": {
    "collapsed": false
   },
   "outputs": [
   ],
   "source": [
   ]
  },
  {
   "cell_type": "code",
   "execution_count": 76,
   "metadata": {
    "collapsed": false
   },
   "outputs": [
   ],
   "source": [
    "%matplotlib inline\n",
    "import matplotlib.pyplot as plt\n",
    "\n",
    "import numpy as np\n",
    "import pandas as pd\n",
    "\n",
    "import astropy.units as u\n",
    "from astropy.time import Time\n",
    "from astropy.coordinates import SkyCoord\n",
    "import pytz\n",
    "\n",
    "from astroplan.plots import plot_sky, plot_airmass\n",
    "from astroplan import Observer, FixedTarget, time_grid_from_range, observability_table, moon_illumination\n",
    "from astroplan import AirmassConstraint, MoonSeparationConstraint"
   ]
  },
  {
   "cell_type": "code",
   "execution_count": 77,
   "metadata": {
    "collapsed": false
   },
   "outputs": [
    {
     "data": {
      "text/plain": [
       "<Observer: name='vla',\n",
       "    location (lon, lat, el)=(-107.61828305555555 deg, 34.07874916666667 deg, 2123.9999999997867 m),\n",
       "    timezone=<UTC>>"
      ]
     },
     "execution_count": 77,
     "metadata": {
     },
     "output_type": "execute_result"
    }
   ],
   "source": [
    "vla = Observer.at_site('vla')\n",
    "\n",
    "vla"
   ]
  },
  {
   "cell_type": "code",
   "execution_count": 78,
   "metadata": {
    "collapsed": false
   },
   "outputs": [
   ],
   "source": [
    "ref_time = Time(\"2018-06-21\")"
   ]
  },
  {
   "cell_type": "code",
   "execution_count": 79,
   "metadata": {
    "collapsed": false
   },
   "outputs": [
    {
     "name": "stdout",
     "output_type": "stream",
     "text": [
      "Astronomical Evening Twilight starts at 2018-06-21 04:09:51.672 UTC\n",
      "Astronomical Morning Twilight starts at 2018-06-21 10:14:33.053 UTC\n"
     ]
    }
   ],
   "source": [
    "astro_set_vla = vla.twilight_evening_astronomical(ref_time, which='nearest')\n",
    "astro_rise_vla = vla.twilight_morning_astronomical(ref_time, which='next')\n",
    "\n",
    "print(\"Astronomical Evening Twilight starts at {0.iso} UTC\".format(astro_set_vla))\n",
    "print(\"Astronomical Morning Twilight starts at {0.iso} UTC\".format(astro_rise_vla))"
   ]
  },
  {
   "cell_type": "code",
   "execution_count": 80,
   "metadata": {
    "collapsed": false
   },
   "outputs": [
   ],
   "source": [
    "observing_range_june = [astro_set_vla, astro_rise_vla]"
   ]
  },
  {
   "cell_type": "code",
   "execution_count": 81,
   "metadata": {
    "collapsed": false
   },
   "outputs": [
   ],
   "source": [
    "from astroplan import MoonSeparationConstraint"
   ]
  },
  {
   "cell_type": "code",
   "execution_count": 82,
   "metadata": {
    "collapsed": false
   },
   "outputs": [
   ],
   "source": [
    "constraints = [AirmassConstraint(2)]"
   ]
  },
  {
   "cell_type": "code",
   "execution_count": 83,
   "metadata": {
    "collapsed": false
   },
   "outputs": [
   ],
   "source": [
    "constraints.append(MoonSeparationConstraint(35*u.deg))"
   ]
  },
  {
   "cell_type": "code",
   "execution_count": 95,
   "metadata": {
    "collapsed": false,
    "scrolled": true
   },
   "outputs": [
    {
     "data": {
      "text/html": [
       "<div>\n",
       "<style scoped>\n",
       "    .dataframe tbody tr th:only-of-type {\n",
       "        vertical-align: middle;\n",
       "    }\n",
       "\n",
       "    .dataframe tbody tr th {\n",
       "        vertical-align: top;\n",
       "    }\n",
       "\n",
       "    .dataframe thead th {\n",
       "        text-align: right;\n",
       "    }\n",
       "</style>\n",
       "<table border=\"1\" class=\"dataframe\">\n",
       "  <thead>\n",
       "    <tr style=\"text-align: right;\">\n",
       "      <th></th>\n",
       "      <th>Abellnumber</th>\n",
       "      <th>ra</th>\n",
       "      <th>dec</th>\n",
       "    </tr>\n",
       "  </thead>\n",
       "  <tbody>\n",
       "    <tr>\n",
       "      <th>0</th>\n",
       "      <td>8</td>\n",
       "      <td>3.051345</td>\n",
       "      <td>-11.183411</td>\n",
       "    </tr>\n",
       "    <tr>\n",
       "      <th>1</th>\n",
       "      <td>23</td>\n",
       "      <td>5.452605</td>\n",
       "      <td>-0.881514</td>\n",
       "    </tr>\n",
       "    <tr>\n",
       "      <th>2</th>\n",
       "      <td>25</td>\n",
       "      <td>5.776024</td>\n",
       "      <td>-0.149530</td>\n",
       "    </tr>\n",
       "    <tr>\n",
       "      <th>3</th>\n",
       "      <td>32</td>\n",
       "      <td>6.722555</td>\n",
       "      <td>-9.098582</td>\n",
       "    </tr>\n",
       "    <tr>\n",
       "      <th>4</th>\n",
       "      <td>34</td>\n",
       "      <td>6.797307</td>\n",
       "      <td>-8.805917</td>\n",
       "    </tr>\n",
       "    <tr>\n",
       "      <th>5</th>\n",
       "      <td>37</td>\n",
       "      <td>6.969537</td>\n",
       "      <td>-10.515666</td>\n",
       "    </tr>\n",
       "    <tr>\n",
       "      <th>6</th>\n",
       "      <td>38</td>\n",
       "      <td>7.096175</td>\n",
       "      <td>13.933454</td>\n",
       "    </tr>\n",
       "    <tr>\n",
       "      <th>7</th>\n",
       "      <td>57</td>\n",
       "      <td>8.476456</td>\n",
       "      <td>-8.896314</td>\n",
       "    </tr>\n",
       "    <tr>\n",
       "      <th>8</th>\n",
       "      <td>83</td>\n",
       "      <td>10.346566</td>\n",
       "      <td>14.034978</td>\n",
       "    </tr>\n",
       "    <tr>\n",
       "      <th>9</th>\n",
       "      <td>85</td>\n",
       "      <td>10.400502</td>\n",
       "      <td>-9.352132</td>\n",
       "    </tr>\n",
       "    <tr>\n",
       "      <th>10</th>\n",
       "      <td>87</td>\n",
       "      <td>10.749009</td>\n",
       "      <td>-9.797727</td>\n",
       "    </tr>\n",
       "    <tr>\n",
       "      <th>11</th>\n",
       "      <td>89</td>\n",
       "      <td>10.778133</td>\n",
       "      <td>-9.434332</td>\n",
       "    </tr>\n",
       "    <tr>\n",
       "      <th>12</th>\n",
       "      <td>91</td>\n",
       "      <td>10.800933</td>\n",
       "      <td>-10.630108</td>\n",
       "    </tr>\n",
       "    <tr>\n",
       "      <th>13</th>\n",
       "      <td>95</td>\n",
       "      <td>11.477274</td>\n",
       "      <td>-0.867743</td>\n",
       "    </tr>\n",
       "    <tr>\n",
       "      <th>14</th>\n",
       "      <td>101</td>\n",
       "      <td>11.898219</td>\n",
       "      <td>-0.911701</td>\n",
       "    </tr>\n",
       "    <tr>\n",
       "      <th>15</th>\n",
       "      <td>112</td>\n",
       "      <td>13.425583</td>\n",
       "      <td>-0.797989</td>\n",
       "    </tr>\n",
       "    <tr>\n",
       "      <th>16</th>\n",
       "      <td>116</td>\n",
       "      <td>13.975602</td>\n",
       "      <td>0.632664</td>\n",
       "    </tr>\n",
       "    <tr>\n",
       "      <th>17</th>\n",
       "      <td>117</td>\n",
       "      <td>13.997625</td>\n",
       "      <td>-10.033669</td>\n",
       "    </tr>\n",
       "    <tr>\n",
       "      <th>18</th>\n",
       "      <td>125</td>\n",
       "      <td>15.025684</td>\n",
       "      <td>14.264179</td>\n",
       "    </tr>\n",
       "    <tr>\n",
       "      <th>19</th>\n",
       "      <td>129</td>\n",
       "      <td>15.249028</td>\n",
       "      <td>-9.965386</td>\n",
       "    </tr>\n",
       "    <tr>\n",
       "      <th>20</th>\n",
       "      <td>130</td>\n",
       "      <td>15.398169</td>\n",
       "      <td>-0.148603</td>\n",
       "    </tr>\n",
       "    <tr>\n",
       "      <th>21</th>\n",
       "      <td>142</td>\n",
       "      <td>16.548829</td>\n",
       "      <td>0.951659</td>\n",
       "    </tr>\n",
       "    <tr>\n",
       "      <th>22</th>\n",
       "      <td>152</td>\n",
       "      <td>17.454289</td>\n",
       "      <td>13.982659</td>\n",
       "    </tr>\n",
       "    <tr>\n",
       "      <th>23</th>\n",
       "      <td>160</td>\n",
       "      <td>18.222905</td>\n",
       "      <td>15.515830</td>\n",
       "    </tr>\n",
       "    <tr>\n",
       "      <th>24</th>\n",
       "      <td>168</td>\n",
       "      <td>18.802797</td>\n",
       "      <td>0.253561</td>\n",
       "    </tr>\n",
       "    <tr>\n",
       "      <th>25</th>\n",
       "      <td>175</td>\n",
       "      <td>19.898606</td>\n",
       "      <td>14.884758</td>\n",
       "    </tr>\n",
       "    <tr>\n",
       "      <th>26</th>\n",
       "      <td>181</td>\n",
       "      <td>20.499536</td>\n",
       "      <td>0.298019</td>\n",
       "    </tr>\n",
       "    <tr>\n",
       "      <th>27</th>\n",
       "      <td>186</td>\n",
       "      <td>20.677728</td>\n",
       "      <td>-10.421787</td>\n",
       "    </tr>\n",
       "    <tr>\n",
       "      <th>28</th>\n",
       "      <td>190</td>\n",
       "      <td>20.922996</td>\n",
       "      <td>-9.848304</td>\n",
       "    </tr>\n",
       "    <tr>\n",
       "      <th>29</th>\n",
       "      <td>200</td>\n",
       "      <td>21.995960</td>\n",
       "      <td>15.218220</td>\n",
       "    </tr>\n",
       "    <tr>\n",
       "      <th>...</th>\n",
       "      <td>...</td>\n",
       "      <td>...</td>\n",
       "      <td>...</td>\n",
       "    </tr>\n",
       "    <tr>\n",
       "      <th>44</th>\n",
       "      <td>295</td>\n",
       "      <td>30.625867</td>\n",
       "      <td>-1.082174</td>\n",
       "    </tr>\n",
       "    <tr>\n",
       "      <th>45</th>\n",
       "      <td>298</td>\n",
       "      <td>30.697237</td>\n",
       "      <td>-9.352444</td>\n",
       "    </tr>\n",
       "    <tr>\n",
       "      <th>46</th>\n",
       "      <td>299</td>\n",
       "      <td>31.198878</td>\n",
       "      <td>0.315865</td>\n",
       "    </tr>\n",
       "    <tr>\n",
       "      <th>47</th>\n",
       "      <td>315</td>\n",
       "      <td>32.525435</td>\n",
       "      <td>-1.001348</td>\n",
       "    </tr>\n",
       "    <tr>\n",
       "      <th>48</th>\n",
       "      <td>317</td>\n",
       "      <td>32.546013</td>\n",
       "      <td>-8.535716</td>\n",
       "    </tr>\n",
       "    <tr>\n",
       "      <th>49</th>\n",
       "      <td>321</td>\n",
       "      <td>32.923977</td>\n",
       "      <td>0.382065</td>\n",
       "    </tr>\n",
       "    <tr>\n",
       "      <th>50</th>\n",
       "      <td>339</td>\n",
       "      <td>34.453215</td>\n",
       "      <td>-9.102984</td>\n",
       "    </tr>\n",
       "    <tr>\n",
       "      <th>51</th>\n",
       "      <td>348</td>\n",
       "      <td>35.999633</td>\n",
       "      <td>-8.586301</td>\n",
       "    </tr>\n",
       "    <tr>\n",
       "      <th>52</th>\n",
       "      <td>350</td>\n",
       "      <td>36.245932</td>\n",
       "      <td>-9.816804</td>\n",
       "    </tr>\n",
       "    <tr>\n",
       "      <th>53</th>\n",
       "      <td>351</td>\n",
       "      <td>36.348575</td>\n",
       "      <td>-8.711416</td>\n",
       "    </tr>\n",
       "    <tr>\n",
       "      <th>54</th>\n",
       "      <td>381</td>\n",
       "      <td>41.502714</td>\n",
       "      <td>-0.635873</td>\n",
       "    </tr>\n",
       "    <tr>\n",
       "      <th>55</th>\n",
       "      <td>411</td>\n",
       "      <td>46.148281</td>\n",
       "      <td>1.015615</td>\n",
       "    </tr>\n",
       "    <tr>\n",
       "      <th>56</th>\n",
       "      <td>412</td>\n",
       "      <td>46.577027</td>\n",
       "      <td>-0.166796</td>\n",
       "    </tr>\n",
       "    <tr>\n",
       "      <th>57</th>\n",
       "      <td>432</td>\n",
       "      <td>51.028520</td>\n",
       "      <td>-5.801212</td>\n",
       "    </tr>\n",
       "    <tr>\n",
       "      <th>58</th>\n",
       "      <td>433</td>\n",
       "      <td>51.151286</td>\n",
       "      <td>-6.780942</td>\n",
       "    </tr>\n",
       "    <tr>\n",
       "      <th>59</th>\n",
       "      <td>441</td>\n",
       "      <td>52.646431</td>\n",
       "      <td>-6.965152</td>\n",
       "    </tr>\n",
       "    <tr>\n",
       "      <th>60</th>\n",
       "      <td>443</td>\n",
       "      <td>52.899217</td>\n",
       "      <td>-6.247733</td>\n",
       "    </tr>\n",
       "    <tr>\n",
       "      <th>61</th>\n",
       "      <td>579</td>\n",
       "      <td>110.324819</td>\n",
       "      <td>36.735312</td>\n",
       "    </tr>\n",
       "    <tr>\n",
       "      <th>62</th>\n",
       "      <td>580</td>\n",
       "      <td>111.475955</td>\n",
       "      <td>41.415067</td>\n",
       "    </tr>\n",
       "    <tr>\n",
       "      <th>63</th>\n",
       "      <td>582</td>\n",
       "      <td>112.052629</td>\n",
       "      <td>41.965831</td>\n",
       "    </tr>\n",
       "    <tr>\n",
       "      <th>64</th>\n",
       "      <td>583</td>\n",
       "      <td>112.199872</td>\n",
       "      <td>43.032551</td>\n",
       "    </tr>\n",
       "    <tr>\n",
       "      <th>65</th>\n",
       "      <td>584</td>\n",
       "      <td>112.151604</td>\n",
       "      <td>26.685196</td>\n",
       "    </tr>\n",
       "    <tr>\n",
       "      <th>66</th>\n",
       "      <td>585</td>\n",
       "      <td>112.750638</td>\n",
       "      <td>40.848694</td>\n",
       "    </tr>\n",
       "    <tr>\n",
       "      <th>67</th>\n",
       "      <td>587</td>\n",
       "      <td>113.248006</td>\n",
       "      <td>39.449516</td>\n",
       "    </tr>\n",
       "    <tr>\n",
       "      <th>68</th>\n",
       "      <td>591</td>\n",
       "      <td>115.498126</td>\n",
       "      <td>43.964768</td>\n",
       "    </tr>\n",
       "    <tr>\n",
       "      <th>69</th>\n",
       "      <td>595</td>\n",
       "      <td>117.204031</td>\n",
       "      <td>52.066458</td>\n",
       "    </tr>\n",
       "    <tr>\n",
       "      <th>70</th>\n",
       "      <td>597</td>\n",
       "      <td>118.003262</td>\n",
       "      <td>35.348857</td>\n",
       "    </tr>\n",
       "    <tr>\n",
       "      <th>71</th>\n",
       "      <td>598</td>\n",
       "      <td>117.726942</td>\n",
       "      <td>17.649720</td>\n",
       "    </tr>\n",
       "    <tr>\n",
       "      <th>72</th>\n",
       "      <td>601</td>\n",
       "      <td>118.351361</td>\n",
       "      <td>34.314279</td>\n",
       "    </tr>\n",
       "    <tr>\n",
       "      <th>73</th>\n",
       "      <td>602</td>\n",
       "      <td>118.322537</td>\n",
       "      <td>29.352413</td>\n",
       "    </tr>\n",
       "  </tbody>\n",
       "</table>\n",
       "<p>74 rows × 3 columns</p>\n",
       "</div>"
      ]
     },
     "execution_count": 95,
     "metadata": {
     },
     "output_type": "execute_result"
    }
   ],
   "source": [
    "target_table = pd.read_csv('./AbellCatalog.csv')\n",
    "#cols = [\"Abell number\", \"ra\", \"dec\"]\n",
    "\n",
    "target_table\n"
   ]
  },
  {
   "cell_type": "code",
   "execution_count": 96,
   "metadata": {
    "collapsed": false
   },
   "outputs": [
   ],
   "source": [
    "table_values = target_table.as_matrix()"
   ]
  },
  {
   "cell_type": "code",
   "execution_count": 97,
   "metadata": {
    "collapsed": false
   },
   "outputs": [
   ],
   "source": [
    "observing_range_june = [astro_set_vla, astro_rise_vla]"
   ]
  },
  {
   "cell_type": "code",
   "execution_count": 98,
   "metadata": {
    "collapsed": false
   },
   "outputs": [
   ],
   "source": [
    "ra=target_table[\"ra\"]\n",
    "dec=target_table[\"dec\"]"
   ]
  },
  {
   "cell_type": "code",
   "execution_count": 102,
   "metadata": {
    "collapsed": false
   },
   "outputs": [
   ],
   "source": [
    "#targets = [FixedTarget(coord=SkyCoord(ra = ra*u.hourangle, dec = dec*u.deg), name=Abellnumber)]\n",
    "#observability = observability_table(constraints, apo, target_values, time_range=observing_range_june)"
   ]
  },
  {
   "cell_type": "code",
   "execution_count": 101,
   "metadata": {
    "collapsed": false
   },
   "outputs": [
    {
     "data": {
      "text/plain": [
       "[<FixedTarget \"8.0\" at SkyCoord (ICRS): (ra, dec) in deg ( 45.770175, -11.183411)>,\n",
       " <FixedTarget \"23.0\" at SkyCoord (ICRS): (ra, dec) in deg ( 81.789075, -0.881514)>,\n",
       " <FixedTarget \"25.0\" at SkyCoord (ICRS): (ra, dec) in deg ( 86.64036, -0.14953)>,\n",
       " <FixedTarget \"32.0\" at SkyCoord (ICRS): (ra, dec) in deg ( 100.838325, -9.098582)>,\n",
       " <FixedTarget \"34.0\" at SkyCoord (ICRS): (ra, dec) in deg ( 101.959605, -8.805917)>,\n",
       " <FixedTarget \"37.0\" at SkyCoord (ICRS): (ra, dec) in deg ( 104.543055, -10.515666)>,\n",
       " <FixedTarget \"38.0\" at SkyCoord (ICRS): (ra, dec) in deg ( 106.442625,  13.933454)>,\n",
       " <FixedTarget \"57.0\" at SkyCoord (ICRS): (ra, dec) in deg ( 127.14684, -8.896314)>,\n",
       " <FixedTarget \"83.0\" at SkyCoord (ICRS): (ra, dec) in deg ( 155.19849,  14.034978)>,\n",
       " <FixedTarget \"85.0\" at SkyCoord (ICRS): (ra, dec) in deg ( 156.00753, -9.352132)>,\n",
       " <FixedTarget \"87.0\" at SkyCoord (ICRS): (ra, dec) in deg ( 161.235135, -9.797727)>,\n",
       " <FixedTarget \"89.0\" at SkyCoord (ICRS): (ra, dec) in deg ( 161.671995, -9.434332)>,\n",
       " <FixedTarget \"91.0\" at SkyCoord (ICRS): (ra, dec) in deg ( 162.013995, -10.630108)>,\n",
       " <FixedTarget \"95.0\" at SkyCoord (ICRS): (ra, dec) in deg ( 172.15911, -0.867743)>,\n",
       " <FixedTarget \"101.0\" at SkyCoord (ICRS): (ra, dec) in deg ( 178.473285, -0.911701)>,\n",
       " <FixedTarget \"112.0\" at SkyCoord (ICRS): (ra, dec) in deg ( 201.383745, -0.797989)>,\n",
       " <FixedTarget \"116.0\" at SkyCoord (ICRS): (ra, dec) in deg ( 209.63403,  0.632664)>,\n",
       " <FixedTarget \"117.0\" at SkyCoord (ICRS): (ra, dec) in deg ( 209.964375, -10.033669)>,\n",
       " <FixedTarget \"125.0\" at SkyCoord (ICRS): (ra, dec) in deg ( 225.38526,  14.264179)>,\n",
       " <FixedTarget \"129.0\" at SkyCoord (ICRS): (ra, dec) in deg ( 228.73542, -9.965386)>,\n",
       " <FixedTarget \"130.0\" at SkyCoord (ICRS): (ra, dec) in deg ( 230.972535, -0.148603)>,\n",
       " <FixedTarget \"142.0\" at SkyCoord (ICRS): (ra, dec) in deg ( 248.232435,  0.951659)>,\n",
       " <FixedTarget \"152.0\" at SkyCoord (ICRS): (ra, dec) in deg ( 261.814335,  13.982659)>,\n",
       " <FixedTarget \"160.0\" at SkyCoord (ICRS): (ra, dec) in deg ( 273.343575,  15.51583)>,\n",
       " <FixedTarget \"168.0\" at SkyCoord (ICRS): (ra, dec) in deg ( 282.041955,  0.253561)>,\n",
       " <FixedTarget \"175.0\" at SkyCoord (ICRS): (ra, dec) in deg ( 298.47909,  14.884758)>,\n",
       " <FixedTarget \"181.0\" at SkyCoord (ICRS): (ra, dec) in deg ( 307.49304,  0.298019)>,\n",
       " <FixedTarget \"186.0\" at SkyCoord (ICRS): (ra, dec) in deg ( 310.16592, -10.421787)>,\n",
       " <FixedTarget \"190.0\" at SkyCoord (ICRS): (ra, dec) in deg ( 313.84494, -9.848304)>,\n",
       " <FixedTarget \"200.0\" at SkyCoord (ICRS): (ra, dec) in deg ( 329.9394,  15.21822)>,\n",
       " <FixedTarget \"208.0\" at SkyCoord (ICRS): (ra, dec) in deg ( 343.50996,  0.53594)>,\n",
       " <FixedTarget \"226.0\" at SkyCoord (ICRS): (ra, dec) in deg ( 11.26023, -10.247549)>,\n",
       " <FixedTarget \"228.0\" at SkyCoord (ICRS): (ra, dec) in deg ( 12.02316, -10.047819)>,\n",
       " <FixedTarget \"232.0\" at SkyCoord (ICRS): (ra, dec) in deg ( 15.357075, -10.362333)>,\n",
       " <FixedTarget \"237.0\" at SkyCoord (ICRS): (ra, dec) in deg ( 18.710205,  0.265623)>,\n",
       " <FixedTarget \"243.0\" at SkyCoord (ICRS): (ra, dec) in deg ( 24.403275, -10.232097)>,\n",
       " <FixedTarget \"257.0\" at SkyCoord (ICRS): (ra, dec) in deg ( 48.76329,  13.9827)>,\n",
       " <FixedTarget \"267.0\" at SkyCoord (ICRS): (ra, dec) in deg ( 63.37773,  1.051587)>,\n",
       " <FixedTarget \"268.0\" at SkyCoord (ICRS): (ra, dec) in deg ( 65.29428, -1.113838)>,\n",
       " <FixedTarget \"275.0\" at SkyCoord (ICRS): (ra, dec) in deg ( 74.296455,  14.666438)>,\n",
       " <FixedTarget \"279.0\" at SkyCoord (ICRS): (ra, dec) in deg ( 76.52568,  1.066458)>,\n",
       " <FixedTarget \"282.0\" at SkyCoord (ICRS): (ra, dec) in deg ( 78.671055, -10.102445)>,\n",
       " <FixedTarget \"284.0\" at SkyCoord (ICRS): (ra, dec) in deg ( 82.13547, -0.632664)>,\n",
       " <FixedTarget \"287.0\" at SkyCoord (ICRS): (ra, dec) in deg ( 91.47939, -7.870486)>,\n",
       " <FixedTarget \"295.0\" at SkyCoord (ICRS): (ra, dec) in deg ( 99.388005, -1.082174)>,\n",
       " <FixedTarget \"298.0\" at SkyCoord (ICRS): (ra, dec) in deg ( 100.458555, -9.352444)>,\n",
       " <FixedTarget \"299.0\" at SkyCoord (ICRS): (ra, dec) in deg ( 107.98317,  0.315865)>,\n",
       " <FixedTarget \"315.0\" at SkyCoord (ICRS): (ra, dec) in deg ( 127.881525, -1.001348)>,\n",
       " <FixedTarget \"317.0\" at SkyCoord (ICRS): (ra, dec) in deg ( 128.190195, -8.535716)>,\n",
       " <FixedTarget \"321.0\" at SkyCoord (ICRS): (ra, dec) in deg ( 133.859655,  0.382065)>,\n",
       " <FixedTarget \"339.0\" at SkyCoord (ICRS): (ra, dec) in deg ( 156.798225, -9.102984)>,\n",
       " <FixedTarget \"348.0\" at SkyCoord (ICRS): (ra, dec) in deg ( 179.994495, -8.586301)>,\n",
       " <FixedTarget \"350.0\" at SkyCoord (ICRS): (ra, dec) in deg ( 183.68898, -9.816804)>,\n",
       " <FixedTarget \"351.0\" at SkyCoord (ICRS): (ra, dec) in deg ( 185.228625, -8.711416)>,\n",
       " <FixedTarget \"381.0\" at SkyCoord (ICRS): (ra, dec) in deg ( 262.54071, -0.635873)>,\n",
       " <FixedTarget \"411.0\" at SkyCoord (ICRS): (ra, dec) in deg ( 332.224215,  1.015615)>,\n",
       " <FixedTarget \"412.0\" at SkyCoord (ICRS): (ra, dec) in deg ( 338.655405, -0.166796)>,\n",
       " <FixedTarget \"432.0\" at SkyCoord (ICRS): (ra, dec) in deg ( 45.4278, -5.801212)>,\n",
       " <FixedTarget \"433.0\" at SkyCoord (ICRS): (ra, dec) in deg ( 47.26929, -6.780942)>,\n",
       " <FixedTarget \"441.0\" at SkyCoord (ICRS): (ra, dec) in deg ( 69.696465, -6.965152)>,\n",
       " <FixedTarget \"443.0\" at SkyCoord (ICRS): (ra, dec) in deg ( 73.488255, -6.247733)>,\n",
       " <FixedTarget \"579.0\" at SkyCoord (ICRS): (ra, dec) in deg ( 214.872285,  36.735312)>,\n",
       " <FixedTarget \"580.0\" at SkyCoord (ICRS): (ra, dec) in deg ( 232.139325,  41.415067)>,\n",
       " <FixedTarget \"582.0\" at SkyCoord (ICRS): (ra, dec) in deg ( 240.789435,  41.965831)>,\n",
       " <FixedTarget \"583.0\" at SkyCoord (ICRS): (ra, dec) in deg ( 242.99808,  43.032551)>,\n",
       " <FixedTarget \"584.0\" at SkyCoord (ICRS): (ra, dec) in deg ( 242.27406,  26.685196)>,\n",
       " <FixedTarget \"585.0\" at SkyCoord (ICRS): (ra, dec) in deg ( 251.25957,  40.848694)>,\n",
       " <FixedTarget \"587.0\" at SkyCoord (ICRS): (ra, dec) in deg ( 258.72009,  39.449516)>,\n",
       " <FixedTarget \"591.0\" at SkyCoord (ICRS): (ra, dec) in deg ( 292.47189,  43.964768)>,\n",
       " <FixedTarget \"595.0\" at SkyCoord (ICRS): (ra, dec) in deg ( 318.060465,  52.066458)>,\n",
       " <FixedTarget \"597.0\" at SkyCoord (ICRS): (ra, dec) in deg ( 330.04893,  35.348857)>,\n",
       " <FixedTarget \"598.0\" at SkyCoord (ICRS): (ra, dec) in deg ( 325.90413,  17.64972)>,\n",
       " <FixedTarget \"601.0\" at SkyCoord (ICRS): (ra, dec) in deg ( 335.270415,  34.314279)>,\n",
       " <FixedTarget \"602.0\" at SkyCoord (ICRS): (ra, dec) in deg ( 334.838055,  29.352413)>]"
      ]
     },
     "execution_count": 101,
     "metadata": {
     },
     "output_type": "execute_result"
    }
   ],
   "source": [
    "targets = [FixedTarget(coord=SkyCoord(ra = ra*u.hourangle, dec = dec*u.deg), name=Abellnumber)\n",
    "           for Abellnumber, ra, dec in table_values]\n",
    "targets"
   ]
  },
  {
   "cell_type": "code",
   "execution_count": 103,
   "metadata": {
    "collapsed": false
   },
   "outputs": [
    {
     "name": "stdout",
     "output_type": "stream",
     "text": [
      "target name ever observable always observable fraction of time observable\n",
      "----------- --------------- ----------------- ---------------------------\n",
      "        8.0           False             False                         0.0\n",
      "       23.0           False             False                         0.0\n",
      "       25.0           False             False                         0.0\n",
      "       32.0           False             False                         0.0\n",
      "       34.0           False             False                         0.0\n",
      "       37.0           False             False                         0.0\n",
      "       38.0           False             False                         0.0\n",
      "       57.0           False             False                         0.0\n",
      "       83.0           False             False                         0.0\n",
      "       85.0           False             False                         0.0\n",
      "        ...             ...               ...                         ...\n",
      "      582.0            True              True                         1.0\n",
      "      583.0            True              True                         1.0\n",
      "      584.0            True             False              0.923076923077\n",
      "      585.0            True              True                         1.0\n",
      "      587.0            True              True                         1.0\n",
      "      591.0            True              True                         1.0\n",
      "      595.0            True             False              0.846153846154\n",
      "      597.0            True             False              0.615384615385\n",
      "      598.0            True             False              0.615384615385\n",
      "      601.0            True             False              0.615384615385\n",
      "      602.0            True             False              0.538461538462\n",
      "Length = 74 rows\n"
     ]
    }
   ],
   "source": [
    "observing_table_june = observability_table(constraints, vla, targets, time_range=observing_range_june)\n",
    "print(observing_table_june)"
   ]
  },
  {
   "cell_type": "code",
   "execution_count": 104,
   "metadata": {
    "collapsed": false
   },
   "outputs": [
   ],
   "source": [
    "ref_time2 = Time(\"2018-07-21\")"
   ]
  },
  {
   "cell_type": "code",
   "execution_count": 105,
   "metadata": {
    "collapsed": false
   },
   "outputs": [
    {
     "name": "stdout",
     "output_type": "stream",
     "text": [
      "Astronomical Evening Twilight starts at 2018-07-21 03:59:21.842 UTC\n",
      "Astronomical Morning Twilight starts at 2018-07-21 10:34:40.376 UTC\n"
     ]
    }
   ],
   "source": [
    "astro_set_vla2 = vla.twilight_evening_astronomical(ref_time2, which='nearest')\n",
    "astro_rise_vla2 = vla.twilight_morning_astronomical(ref_time2, which='next')\n",
    "\n",
    "print(\"Astronomical Evening Twilight starts at {0.iso} UTC\".format(astro_set_vla2))\n",
    "print(\"Astronomical Morning Twilight starts at {0.iso} UTC\".format(astro_rise_vla2))"
   ]
  },
  {
   "cell_type": "code",
   "execution_count": 106,
   "metadata": {
    "collapsed": false
   },
   "outputs": [
   ],
   "source": [
    "observing_range_july = [astro_set_vla2, astro_rise_vla2]"
   ]
  },
  {
   "cell_type": "code",
   "execution_count": 107,
   "metadata": {
    "collapsed": false
   },
   "outputs": [
    {
     "data": {
      "text/plain": [
       "[<FixedTarget \"8.0\" at SkyCoord (ICRS): (ra, dec) in deg ( 45.770175, -11.183411)>,\n",
       " <FixedTarget \"23.0\" at SkyCoord (ICRS): (ra, dec) in deg ( 81.789075, -0.881514)>,\n",
       " <FixedTarget \"25.0\" at SkyCoord (ICRS): (ra, dec) in deg ( 86.64036, -0.14953)>,\n",
       " <FixedTarget \"32.0\" at SkyCoord (ICRS): (ra, dec) in deg ( 100.838325, -9.098582)>,\n",
       " <FixedTarget \"34.0\" at SkyCoord (ICRS): (ra, dec) in deg ( 101.959605, -8.805917)>,\n",
       " <FixedTarget \"37.0\" at SkyCoord (ICRS): (ra, dec) in deg ( 104.543055, -10.515666)>,\n",
       " <FixedTarget \"38.0\" at SkyCoord (ICRS): (ra, dec) in deg ( 106.442625,  13.933454)>,\n",
       " <FixedTarget \"57.0\" at SkyCoord (ICRS): (ra, dec) in deg ( 127.14684, -8.896314)>,\n",
       " <FixedTarget \"83.0\" at SkyCoord (ICRS): (ra, dec) in deg ( 155.19849,  14.034978)>,\n",
       " <FixedTarget \"85.0\" at SkyCoord (ICRS): (ra, dec) in deg ( 156.00753, -9.352132)>,\n",
       " <FixedTarget \"87.0\" at SkyCoord (ICRS): (ra, dec) in deg ( 161.235135, -9.797727)>,\n",
       " <FixedTarget \"89.0\" at SkyCoord (ICRS): (ra, dec) in deg ( 161.671995, -9.434332)>,\n",
       " <FixedTarget \"91.0\" at SkyCoord (ICRS): (ra, dec) in deg ( 162.013995, -10.630108)>,\n",
       " <FixedTarget \"95.0\" at SkyCoord (ICRS): (ra, dec) in deg ( 172.15911, -0.867743)>,\n",
       " <FixedTarget \"101.0\" at SkyCoord (ICRS): (ra, dec) in deg ( 178.473285, -0.911701)>,\n",
       " <FixedTarget \"112.0\" at SkyCoord (ICRS): (ra, dec) in deg ( 201.383745, -0.797989)>,\n",
       " <FixedTarget \"116.0\" at SkyCoord (ICRS): (ra, dec) in deg ( 209.63403,  0.632664)>,\n",
       " <FixedTarget \"117.0\" at SkyCoord (ICRS): (ra, dec) in deg ( 209.964375, -10.033669)>,\n",
       " <FixedTarget \"125.0\" at SkyCoord (ICRS): (ra, dec) in deg ( 225.38526,  14.264179)>,\n",
       " <FixedTarget \"129.0\" at SkyCoord (ICRS): (ra, dec) in deg ( 228.73542, -9.965386)>,\n",
       " <FixedTarget \"130.0\" at SkyCoord (ICRS): (ra, dec) in deg ( 230.972535, -0.148603)>,\n",
       " <FixedTarget \"142.0\" at SkyCoord (ICRS): (ra, dec) in deg ( 248.232435,  0.951659)>,\n",
       " <FixedTarget \"152.0\" at SkyCoord (ICRS): (ra, dec) in deg ( 261.814335,  13.982659)>,\n",
       " <FixedTarget \"160.0\" at SkyCoord (ICRS): (ra, dec) in deg ( 273.343575,  15.51583)>,\n",
       " <FixedTarget \"168.0\" at SkyCoord (ICRS): (ra, dec) in deg ( 282.041955,  0.253561)>,\n",
       " <FixedTarget \"175.0\" at SkyCoord (ICRS): (ra, dec) in deg ( 298.47909,  14.884758)>,\n",
       " <FixedTarget \"181.0\" at SkyCoord (ICRS): (ra, dec) in deg ( 307.49304,  0.298019)>,\n",
       " <FixedTarget \"186.0\" at SkyCoord (ICRS): (ra, dec) in deg ( 310.16592, -10.421787)>,\n",
       " <FixedTarget \"190.0\" at SkyCoord (ICRS): (ra, dec) in deg ( 313.84494, -9.848304)>,\n",
       " <FixedTarget \"200.0\" at SkyCoord (ICRS): (ra, dec) in deg ( 329.9394,  15.21822)>,\n",
       " <FixedTarget \"208.0\" at SkyCoord (ICRS): (ra, dec) in deg ( 343.50996,  0.53594)>,\n",
       " <FixedTarget \"226.0\" at SkyCoord (ICRS): (ra, dec) in deg ( 11.26023, -10.247549)>,\n",
       " <FixedTarget \"228.0\" at SkyCoord (ICRS): (ra, dec) in deg ( 12.02316, -10.047819)>,\n",
       " <FixedTarget \"232.0\" at SkyCoord (ICRS): (ra, dec) in deg ( 15.357075, -10.362333)>,\n",
       " <FixedTarget \"237.0\" at SkyCoord (ICRS): (ra, dec) in deg ( 18.710205,  0.265623)>,\n",
       " <FixedTarget \"243.0\" at SkyCoord (ICRS): (ra, dec) in deg ( 24.403275, -10.232097)>,\n",
       " <FixedTarget \"257.0\" at SkyCoord (ICRS): (ra, dec) in deg ( 48.76329,  13.9827)>,\n",
       " <FixedTarget \"267.0\" at SkyCoord (ICRS): (ra, dec) in deg ( 63.37773,  1.051587)>,\n",
       " <FixedTarget \"268.0\" at SkyCoord (ICRS): (ra, dec) in deg ( 65.29428, -1.113838)>,\n",
       " <FixedTarget \"275.0\" at SkyCoord (ICRS): (ra, dec) in deg ( 74.296455,  14.666438)>,\n",
       " <FixedTarget \"279.0\" at SkyCoord (ICRS): (ra, dec) in deg ( 76.52568,  1.066458)>,\n",
       " <FixedTarget \"282.0\" at SkyCoord (ICRS): (ra, dec) in deg ( 78.671055, -10.102445)>,\n",
       " <FixedTarget \"284.0\" at SkyCoord (ICRS): (ra, dec) in deg ( 82.13547, -0.632664)>,\n",
       " <FixedTarget \"287.0\" at SkyCoord (ICRS): (ra, dec) in deg ( 91.47939, -7.870486)>,\n",
       " <FixedTarget \"295.0\" at SkyCoord (ICRS): (ra, dec) in deg ( 99.388005, -1.082174)>,\n",
       " <FixedTarget \"298.0\" at SkyCoord (ICRS): (ra, dec) in deg ( 100.458555, -9.352444)>,\n",
       " <FixedTarget \"299.0\" at SkyCoord (ICRS): (ra, dec) in deg ( 107.98317,  0.315865)>,\n",
       " <FixedTarget \"315.0\" at SkyCoord (ICRS): (ra, dec) in deg ( 127.881525, -1.001348)>,\n",
       " <FixedTarget \"317.0\" at SkyCoord (ICRS): (ra, dec) in deg ( 128.190195, -8.535716)>,\n",
       " <FixedTarget \"321.0\" at SkyCoord (ICRS): (ra, dec) in deg ( 133.859655,  0.382065)>,\n",
       " <FixedTarget \"339.0\" at SkyCoord (ICRS): (ra, dec) in deg ( 156.798225, -9.102984)>,\n",
       " <FixedTarget \"348.0\" at SkyCoord (ICRS): (ra, dec) in deg ( 179.994495, -8.586301)>,\n",
       " <FixedTarget \"350.0\" at SkyCoord (ICRS): (ra, dec) in deg ( 183.68898, -9.816804)>,\n",
       " <FixedTarget \"351.0\" at SkyCoord (ICRS): (ra, dec) in deg ( 185.228625, -8.711416)>,\n",
       " <FixedTarget \"381.0\" at SkyCoord (ICRS): (ra, dec) in deg ( 262.54071, -0.635873)>,\n",
       " <FixedTarget \"411.0\" at SkyCoord (ICRS): (ra, dec) in deg ( 332.224215,  1.015615)>,\n",
       " <FixedTarget \"412.0\" at SkyCoord (ICRS): (ra, dec) in deg ( 338.655405, -0.166796)>,\n",
       " <FixedTarget \"432.0\" at SkyCoord (ICRS): (ra, dec) in deg ( 45.4278, -5.801212)>,\n",
       " <FixedTarget \"433.0\" at SkyCoord (ICRS): (ra, dec) in deg ( 47.26929, -6.780942)>,\n",
       " <FixedTarget \"441.0\" at SkyCoord (ICRS): (ra, dec) in deg ( 69.696465, -6.965152)>,\n",
       " <FixedTarget \"443.0\" at SkyCoord (ICRS): (ra, dec) in deg ( 73.488255, -6.247733)>,\n",
       " <FixedTarget \"579.0\" at SkyCoord (ICRS): (ra, dec) in deg ( 214.872285,  36.735312)>,\n",
       " <FixedTarget \"580.0\" at SkyCoord (ICRS): (ra, dec) in deg ( 232.139325,  41.415067)>,\n",
       " <FixedTarget \"582.0\" at SkyCoord (ICRS): (ra, dec) in deg ( 240.789435,  41.965831)>,\n",
       " <FixedTarget \"583.0\" at SkyCoord (ICRS): (ra, dec) in deg ( 242.99808,  43.032551)>,\n",
       " <FixedTarget \"584.0\" at SkyCoord (ICRS): (ra, dec) in deg ( 242.27406,  26.685196)>,\n",
       " <FixedTarget \"585.0\" at SkyCoord (ICRS): (ra, dec) in deg ( 251.25957,  40.848694)>,\n",
       " <FixedTarget \"587.0\" at SkyCoord (ICRS): (ra, dec) in deg ( 258.72009,  39.449516)>,\n",
       " <FixedTarget \"591.0\" at SkyCoord (ICRS): (ra, dec) in deg ( 292.47189,  43.964768)>,\n",
       " <FixedTarget \"595.0\" at SkyCoord (ICRS): (ra, dec) in deg ( 318.060465,  52.066458)>,\n",
       " <FixedTarget \"597.0\" at SkyCoord (ICRS): (ra, dec) in deg ( 330.04893,  35.348857)>,\n",
       " <FixedTarget \"598.0\" at SkyCoord (ICRS): (ra, dec) in deg ( 325.90413,  17.64972)>,\n",
       " <FixedTarget \"601.0\" at SkyCoord (ICRS): (ra, dec) in deg ( 335.270415,  34.314279)>,\n",
       " <FixedTarget \"602.0\" at SkyCoord (ICRS): (ra, dec) in deg ( 334.838055,  29.352413)>]"
      ]
     },
     "execution_count": 107,
     "metadata": {
     },
     "output_type": "execute_result"
    }
   ],
   "source": [
    "targets2 = [FixedTarget(coord=SkyCoord(ra = ra*u.hourangle, dec = dec*u.deg), name=Abellnumber)\n",
    "           for Abellnumber, ra, dec in table_values]\n",
    "targets2"
   ]
  },
  {
   "cell_type": "code",
   "execution_count": 108,
   "metadata": {
    "collapsed": false
   },
   "outputs": [
    {
     "name": "stdout",
     "output_type": "stream",
     "text": [
      "target name ever observable always observable fraction of time observable\n",
      "----------- --------------- ----------------- ---------------------------\n",
      "        8.0           False             False                         0.0\n",
      "       23.0           False             False                         0.0\n",
      "       25.0           False             False                         0.0\n",
      "       32.0           False             False                         0.0\n",
      "       34.0           False             False                         0.0\n",
      "       37.0           False             False                         0.0\n",
      "       38.0           False             False                         0.0\n",
      "       57.0           False             False                         0.0\n",
      "       83.0           False             False                         0.0\n",
      "       85.0           False             False                         0.0\n",
      "        ...             ...               ...                         ...\n",
      "      582.0            True             False              0.714285714286\n",
      "      583.0            True             False              0.714285714286\n",
      "      584.0            True             False              0.642857142857\n",
      "      585.0            True             False              0.785714285714\n",
      "      587.0            True             False              0.857142857143\n",
      "      591.0            True              True                         1.0\n",
      "      595.0            True              True                         1.0\n",
      "      597.0            True             False              0.928571428571\n",
      "      598.0            True             False              0.857142857143\n",
      "      601.0            True             False              0.857142857143\n",
      "      602.0            True             False              0.857142857143\n",
      "Length = 74 rows\n"
     ]
    }
   ],
   "source": [
    "observing_table_july = observability_table(constraints, vla, targets, time_range=observing_range_july)\n",
    "print(observing_table_july)"
   ]
  },
  {
   "cell_type": "code",
   "execution_count": 0,
   "metadata": {
    "collapsed": false
   },
   "outputs": [
   ],
   "source": [
   ]
  }
 ],
 "metadata": {
  "kernelspec": {
   "display_name": "Python 3 (Anaconda)",
   "language": "python",
   "name": "anaconda3"
  },
  "language_info": {
   "codemirror_mode": {
    "name": "ipython",
    "version": 3
   },
   "file_extension": ".py",
   "mimetype": "text/x-python",
   "name": "python",
   "nbconvert_exporter": "python",
   "pygments_lexer": "ipython3",
   "version": "3.5.5"
  }
 },
 "nbformat": 4,
 "nbformat_minor": 0
}